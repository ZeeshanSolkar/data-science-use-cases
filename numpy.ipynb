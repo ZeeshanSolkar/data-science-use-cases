{
 "cells": [
  {
   "cell_type": "code",
   "execution_count": 1,
   "id": "62fa5872-a3c4-4ebf-95d8-faaa49d74949",
   "metadata": {},
   "outputs": [],
   "source": [
    "import numpy as np"
   ]
  },
  {
   "cell_type": "code",
   "execution_count": 8,
   "id": "0e8e93a6-20b2-4198-8f9c-e51dbf13fd9b",
   "metadata": {},
   "outputs": [
    {
     "name": "stdout",
     "output_type": "stream",
     "text": [
      "[[11 11 11]\n",
      " [11 11 11]\n",
      " [11 11 11]]\n"
     ]
    }
   ],
   "source": [
    "matrix = np.full((3,3), fill_value = 11)\n",
    "print(matrix)"
   ]
  },
  {
   "cell_type": "code",
   "execution_count": 2,
   "id": "88779b07-a325-41cd-9835-8f5e8d93e778",
   "metadata": {},
   "outputs": [
    {
     "data": {
      "text/plain": [
       "array([[1., 0., 0., 0., 0.],\n",
       "       [0., 1., 0., 0., 0.],\n",
       "       [0., 0., 1., 0., 0.],\n",
       "       [0., 0., 0., 1., 0.],\n",
       "       [0., 0., 0., 0., 1.]])"
      ]
     },
     "execution_count": 2,
     "metadata": {},
     "output_type": "execute_result"
    }
   ],
   "source": [
    "np.identity(5)"
   ]
  },
  {
   "cell_type": "code",
   "execution_count": 12,
   "id": "4b569dfd-25a1-44aa-a220-8425c5631d09",
   "metadata": {},
   "outputs": [
    {
     "data": {
      "text/plain": [
       "array([[0., 0., 0., 0., 0.],\n",
       "       [0., 0., 0., 0., 0.],\n",
       "       [0., 0., 0., 0., 0.],\n",
       "       [1., 0., 0., 0., 0.],\n",
       "       [0., 1., 0., 0., 0.]])"
      ]
     },
     "execution_count": 12,
     "metadata": {},
     "output_type": "execute_result"
    }
   ],
   "source": [
    "np.eye(5,5,-3)"
   ]
  },
  {
   "cell_type": "code",
   "execution_count": 14,
   "id": "d6d04d92-5f9f-4312-9004-a9bdedffa5f5",
   "metadata": {},
   "outputs": [
    {
     "data": {
      "text/plain": [
       "array([[1., 0., 0., 0.],\n",
       "       [0., 1., 0., 0.],\n",
       "       [0., 0., 1., 0.],\n",
       "       [0., 0., 0., 1.]])"
      ]
     },
     "execution_count": 14,
     "metadata": {},
     "output_type": "execute_result"
    }
   ],
   "source": [
    "np.eye(4,4,0)"
   ]
  },
  {
   "cell_type": "code",
   "execution_count": 16,
   "id": "1fd49dd6-ca54-4851-b77d-65745ea2348b",
   "metadata": {},
   "outputs": [
    {
     "data": {
      "text/plain": [
       "4"
      ]
     },
     "execution_count": 16,
     "metadata": {},
     "output_type": "execute_result"
    }
   ],
   "source": [
    "np.random.randint(1,10)"
   ]
  },
  {
   "cell_type": "code",
   "execution_count": 18,
   "id": "4b128e63-989f-4bbf-9af7-6b1e56073d1b",
   "metadata": {},
   "outputs": [],
   "source": [
    "array = (1, 2, 3, 4)"
   ]
  },
  {
   "cell_type": "code",
   "execution_count": 23,
   "id": "bf038587-ae0f-4381-9b52-ddfdef428305",
   "metadata": {},
   "outputs": [
    {
     "ename": "AttributeError",
     "evalue": "'tuple' object has no attribute 'ndim'",
     "output_type": "error",
     "traceback": [
      "\u001b[1;31m---------------------------------------------------------------------------\u001b[0m",
      "\u001b[1;31mAttributeError\u001b[0m                            Traceback (most recent call last)",
      "Cell \u001b[1;32mIn[23], line 1\u001b[0m\n\u001b[1;32m----> 1\u001b[0m dimension \u001b[38;5;241m=\u001b[39m array\u001b[38;5;241m.\u001b[39mndim\n",
      "\u001b[1;31mAttributeError\u001b[0m: 'tuple' object has no attribute 'ndim'"
     ]
    }
   ],
   "source": [
    "dimension = array.ndim"
   ]
  },
  {
   "cell_type": "code",
   "execution_count": 24,
   "id": "9577af89-548c-4f02-9de8-9f84845fc932",
   "metadata": {},
   "outputs": [],
   "source": [
    "list =5"
   ]
  },
  {
   "cell_type": "code",
   "execution_count": 25,
   "id": "4448aaff-b57a-4dfc-bc63-2ee9b2c54507",
   "metadata": {},
   "outputs": [
    {
     "ename": "TypeError",
     "evalue": "'int' object is not callable",
     "output_type": "error",
     "traceback": [
      "\u001b[1;31m---------------------------------------------------------------------------\u001b[0m",
      "\u001b[1;31mTypeError\u001b[0m                                 Traceback (most recent call last)",
      "Cell \u001b[1;32mIn[25], line 1\u001b[0m\n\u001b[1;32m----> 1\u001b[0m \u001b[38;5;28mlist\u001b[39m((\u001b[38;5;241m1\u001b[39m,\u001b[38;5;241m2\u001b[39m,\u001b[38;5;241m3\u001b[39m,\u001b[38;5;241m4\u001b[39m))\n",
      "\u001b[1;31mTypeError\u001b[0m: 'int' object is not callable"
     ]
    }
   ],
   "source": [
    "list((1,2,3,4))"
   ]
  },
  {
   "cell_type": "code",
   "execution_count": 26,
   "id": "58a14319-d7e4-4aca-8d0a-7244316d26c5",
   "metadata": {},
   "outputs": [
    {
     "data": {
      "text/plain": [
       "<function numpy.ones(shape, dtype=None, order='C', *, like=None)>"
      ]
     },
     "execution_count": 26,
     "metadata": {},
     "output_type": "execute_result"
    }
   ],
   "source": [
    "np.ones"
   ]
  },
  {
   "cell_type": "markdown",
   "id": "d3e083e1-8914-4947-a15b-e9ee4bd0ae44",
   "metadata": {},
   "source": [
    "# shape"
   ]
  },
  {
   "cell_type": "code",
   "execution_count": 36,
   "id": "9e24eaa3-889f-40a4-8e2a-03218369d3f1",
   "metadata": {},
   "outputs": [],
   "source": [
    "a = np.array(((1, 2, 3), (1, 2, 3)))"
   ]
  },
  {
   "cell_type": "code",
   "execution_count": 32,
   "id": "a26ae3a0-3ce8-4260-914b-e6546c4445cc",
   "metadata": {},
   "outputs": [
    {
     "name": "stdout",
     "output_type": "stream",
     "text": [
      "no of rows: 2\n",
      "No of columns: 3\n"
     ]
    }
   ],
   "source": [
    "row,col = a.shape\n",
    "\n",
    "print(f'no of rows: {row}\\nNo of columns: {col}')"
   ]
  },
  {
   "cell_type": "code",
   "execution_count": 31,
   "id": "92ae7c18-b714-4ad4-9a32-529c0cd956c5",
   "metadata": {},
   "outputs": [
    {
     "name": "stdout",
     "output_type": "stream",
     "text": [
      "[[1 2 3]\n",
      " [1 2 3]]\n"
     ]
    }
   ],
   "source": [
    "print(a,)"
   ]
  },
  {
   "cell_type": "markdown",
   "id": "d7719b36-8f37-455e-814a-d8d7d92791bf",
   "metadata": {},
   "source": [
    "# size"
   ]
  },
  {
   "cell_type": "code",
   "execution_count": 39,
   "id": "70806b47-581b-4f5e-a294-80d69fab36a2",
   "metadata": {},
   "outputs": [
    {
     "data": {
      "text/plain": [
       "array([[1, 2, 3],\n",
       "       [2, 3, 4],\n",
       "       [1, 2, 3],\n",
       "       [2, 3, 4]])"
      ]
     },
     "execution_count": 39,
     "metadata": {},
     "output_type": "execute_result"
    }
   ],
   "source": [
    "a = np.array(((1, 2, 3),(2, 3, 4),(1, 2, 3),(2,3,4)))\n",
    "a"
   ]
  },
  {
   "cell_type": "code",
   "execution_count": 40,
   "id": "3722ea71-e0b9-4525-b1b6-f2d2601fe95c",
   "metadata": {},
   "outputs": [
    {
     "data": {
      "text/plain": [
       "12"
      ]
     },
     "execution_count": 40,
     "metadata": {},
     "output_type": "execute_result"
    }
   ],
   "source": [
    "a.size"
   ]
  },
  {
   "cell_type": "code",
   "execution_count": 41,
   "id": "6b38371c-2231-45bb-9d4b-b221ca9450aa",
   "metadata": {},
   "outputs": [
    {
     "name": "stdout",
     "output_type": "stream",
     "text": [
      "no of rows: 2\n",
      "No of columns: 3\n",
      "Size od array: 12\n"
     ]
    }
   ],
   "source": [
    "size = a.size\n",
    "print(f'no of rows: {row}\\nNo of columns: {col}')\n",
    "print(f'Size od array: {size}')"
   ]
  },
  {
   "cell_type": "markdown",
   "id": "1198c7d4-2061-49e0-8c4f-fe1e9f00e7a5",
   "metadata": {},
   "source": [
    "# DTYPE"
   ]
  },
  {
   "cell_type": "code",
   "execution_count": 4,
   "id": "50f65ccd-b123-4ac0-8b0d-0baf72eeb929",
   "metadata": {},
   "outputs": [
    {
     "name": "stdout",
     "output_type": "stream",
     "text": [
      "dtype of elements in array is  float64\n"
     ]
    }
   ],
   "source": [
    "import numpy as np\n",
    "\n",
    "WEIGHT_AGE = np.array([(3.3, 4.2, 5.7), (1, 0.3, 0.8)])\n",
    "print(\"dtype of elements in array is \", WEIGHT_AGE.dtype)"
   ]
  },
  {
   "cell_type": "code",
   "execution_count": null,
   "id": "623e5b4f-813c-4f24-87eb-eb66b8e8667b",
   "metadata": {},
   "outputs": [],
   "source": [
    "import matplotlib.pyplot"
   ]
  },
  {
   "cell_type": "code",
   "execution_count": 11,
   "id": "d4f1955c-d91b-4838-bfdf-aa53ac6e7d27",
   "metadata": {},
   "outputs": [
    {
     "name": "stdout",
     "output_type": "stream",
     "text": [
      "[[ 1  2  3  4  5]\n",
      " [ 6  7  8  9 10]]\n"
     ]
    }
   ],
   "source": [
    "ar = ([ 1, 2, 3, 4, 5, 6, 7, 8, 9, 10])"
   ]
  },
  {
   "cell_type": "code",
   "execution_count": 14,
   "id": "2123337a-38b5-434e-837b-d987987713f4",
   "metadata": {},
   "outputs": [
    {
     "data": {
      "text/plain": [
       "array([[ 1,  2,  3,  4,  5],\n",
       "       [ 6,  7,  8,  9, 10]])"
      ]
     },
     "execution_count": 14,
     "metadata": {},
     "output_type": "execute_result"
    }
   ],
   "source": [
    "b = ar.reshape(2,5)\n",
    "b"
   ]
  },
  {
   "cell_type": "code",
   "execution_count": 16,
   "id": "df6f2256-a7c7-4d50-8272-f734b887f740",
   "metadata": {},
   "outputs": [
    {
     "data": {
      "text/plain": [
       "array([7, 8])"
      ]
     },
     "execution_count": 16,
     "metadata": {},
     "output_type": "execute_result"
    }
   ],
   "source": [
    "b[1][1:3]"
   ]
  },
  {
   "cell_type": "code",
   "execution_count": 17,
   "id": "b00214e3-1638-4c4a-80c9-b4c2d4697e08",
   "metadata": {},
   "outputs": [
    {
     "data": {
      "text/plain": [
       "array([3, 4, 5])"
      ]
     },
     "execution_count": 17,
     "metadata": {},
     "output_type": "execute_result"
    }
   ],
   "source": [
    "b[0][-3:]"
   ]
  },
  {
   "cell_type": "code",
   "execution_count": null,
   "id": "9f60cd22-8466-4609-aa1a-fde543f06851",
   "metadata": {},
   "outputs": [],
   "source": []
  }
 ],
 "metadata": {
  "kernelspec": {
   "display_name": "Python 3 (ipykernel)",
   "language": "python",
   "name": "python3"
  },
  "language_info": {
   "codemirror_mode": {
    "name": "ipython",
    "version": 3
   },
   "file_extension": ".py",
   "mimetype": "text/x-python",
   "name": "python",
   "nbconvert_exporter": "python",
   "pygments_lexer": "ipython3",
   "version": "3.11.7"
  }
 },
 "nbformat": 4,
 "nbformat_minor": 5
}
